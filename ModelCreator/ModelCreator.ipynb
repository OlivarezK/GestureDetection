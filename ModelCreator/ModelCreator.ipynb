{
  "cells": [
    {
      "cell_type": "markdown",
      "metadata": {
        "id": "HDkGC6tgOizw"
      },
      "source": [
        "# Speak By Hand Model Creator"
      ]
    },
    {
      "cell_type": "markdown",
      "source": [
        "## Import Libraries"
      ],
      "metadata": {
        "id": "S2hbEscqOorP"
      }
    },
    {
      "cell_type": "code",
      "source": [
        "import os\n",
        "import pandas as pd\n",
        "import numpy as np\n",
        "from sklearn.model_selection import train_test_split\n",
        "\n",
        "import tensorflow as tf\n",
        "from keras.models import Sequential\n",
        "from keras.layers import Dense, Dropout, Activation, Flatten, Conv1D, MaxPool1D, LSTM\n",
        "\n",
        "from sklearn.metrics import classification_report"
      ],
      "metadata": {
        "id": "68O316YLOrsx"
      },
      "execution_count": 1,
      "outputs": []
    },
    {
      "cell_type": "markdown",
      "metadata": {
        "id": "hkR_8G0-Oiz0"
      },
      "source": [
        "## Load Data"
      ]
    },
    {
      "cell_type": "code",
      "source": [
        "# gesture data directory\n",
        "# mount to google drive first\n",
        "# check repo for gdrive link of dataset\n",
        "file_dir = \"drive/MyDrive/data/\""
      ],
      "metadata": {
        "id": "PZj9eX5YOtxq"
      },
      "execution_count": 2,
      "outputs": []
    },
    {
      "cell_type": "markdown",
      "source": [
        "## Preprocess Data"
      ],
      "metadata": {
        "id": "OmqI0sKFPSfc"
      }
    },
    {
      "cell_type": "code",
      "source": [
        "# get file names\n",
        "file_names = os.listdir(file_dir)\n",
        "file_names[:10]"
      ],
      "metadata": {
        "colab": {
          "base_uri": "https://localhost:8080/"
        },
        "id": "FL3puQCMOvXD",
        "outputId": "825efc9d-bbb1-419b-fd1d-5ee7d49cda66"
      },
      "execution_count": 3,
      "outputs": [
        {
          "output_type": "execute_result",
          "data": {
            "text/plain": [
              "['Down_2',\n",
              " 'Down_4',\n",
              " 'Down_14',\n",
              " 'Down_3',\n",
              " 'Down_19',\n",
              " 'Down_7',\n",
              " 'Down_11',\n",
              " 'Down_12',\n",
              " 'Down_15',\n",
              " 'Down_1']"
            ]
          },
          "metadata": {},
          "execution_count": 3
        }
      ]
    },
    {
      "cell_type": "code",
      "source": [
        "# will result to a list containing [Up, Down, Left, Right, Drink, ....]\n",
        "file_name = []\n",
        "for i in file_names:\n",
        "  file_name.append(i.split(\"_\")[0])\n",
        "\n",
        "# create data frame out of the list\n",
        "df = pd.DataFrame(file_name)\n",
        "df.head()"
      ],
      "metadata": {
        "colab": {
          "base_uri": "https://localhost:8080/",
          "height": 206
        },
        "id": "BcF9cFkTOxYs",
        "outputId": "0a380f34-b8d8-40be-865c-e968d98e6252"
      },
      "execution_count": 4,
      "outputs": [
        {
          "output_type": "execute_result",
          "data": {
            "text/plain": [
              "      0\n",
              "0  Down\n",
              "1  Down\n",
              "2  Down\n",
              "3  Down\n",
              "4  Down"
            ],
            "text/html": [
              "\n",
              "  <div id=\"df-895feced-5d6e-49a9-8093-820f57eec65f\">\n",
              "    <div class=\"colab-df-container\">\n",
              "      <div>\n",
              "<style scoped>\n",
              "    .dataframe tbody tr th:only-of-type {\n",
              "        vertical-align: middle;\n",
              "    }\n",
              "\n",
              "    .dataframe tbody tr th {\n",
              "        vertical-align: top;\n",
              "    }\n",
              "\n",
              "    .dataframe thead th {\n",
              "        text-align: right;\n",
              "    }\n",
              "</style>\n",
              "<table border=\"1\" class=\"dataframe\">\n",
              "  <thead>\n",
              "    <tr style=\"text-align: right;\">\n",
              "      <th></th>\n",
              "      <th>0</th>\n",
              "    </tr>\n",
              "  </thead>\n",
              "  <tbody>\n",
              "    <tr>\n",
              "      <th>0</th>\n",
              "      <td>Down</td>\n",
              "    </tr>\n",
              "    <tr>\n",
              "      <th>1</th>\n",
              "      <td>Down</td>\n",
              "    </tr>\n",
              "    <tr>\n",
              "      <th>2</th>\n",
              "      <td>Down</td>\n",
              "    </tr>\n",
              "    <tr>\n",
              "      <th>3</th>\n",
              "      <td>Down</td>\n",
              "    </tr>\n",
              "    <tr>\n",
              "      <th>4</th>\n",
              "      <td>Down</td>\n",
              "    </tr>\n",
              "  </tbody>\n",
              "</table>\n",
              "</div>\n",
              "      <button class=\"colab-df-convert\" onclick=\"convertToInteractive('df-895feced-5d6e-49a9-8093-820f57eec65f')\"\n",
              "              title=\"Convert this dataframe to an interactive table.\"\n",
              "              style=\"display:none;\">\n",
              "        \n",
              "  <svg xmlns=\"http://www.w3.org/2000/svg\" height=\"24px\"viewBox=\"0 0 24 24\"\n",
              "       width=\"24px\">\n",
              "    <path d=\"M0 0h24v24H0V0z\" fill=\"none\"/>\n",
              "    <path d=\"M18.56 5.44l.94 2.06.94-2.06 2.06-.94-2.06-.94-.94-2.06-.94 2.06-2.06.94zm-11 1L8.5 8.5l.94-2.06 2.06-.94-2.06-.94L8.5 2.5l-.94 2.06-2.06.94zm10 10l.94 2.06.94-2.06 2.06-.94-2.06-.94-.94-2.06-.94 2.06-2.06.94z\"/><path d=\"M17.41 7.96l-1.37-1.37c-.4-.4-.92-.59-1.43-.59-.52 0-1.04.2-1.43.59L10.3 9.45l-7.72 7.72c-.78.78-.78 2.05 0 2.83L4 21.41c.39.39.9.59 1.41.59.51 0 1.02-.2 1.41-.59l7.78-7.78 2.81-2.81c.8-.78.8-2.07 0-2.86zM5.41 20L4 18.59l7.72-7.72 1.47 1.35L5.41 20z\"/>\n",
              "  </svg>\n",
              "      </button>\n",
              "      \n",
              "  <style>\n",
              "    .colab-df-container {\n",
              "      display:flex;\n",
              "      flex-wrap:wrap;\n",
              "      gap: 12px;\n",
              "    }\n",
              "\n",
              "    .colab-df-convert {\n",
              "      background-color: #E8F0FE;\n",
              "      border: none;\n",
              "      border-radius: 50%;\n",
              "      cursor: pointer;\n",
              "      display: none;\n",
              "      fill: #1967D2;\n",
              "      height: 32px;\n",
              "      padding: 0 0 0 0;\n",
              "      width: 32px;\n",
              "    }\n",
              "\n",
              "    .colab-df-convert:hover {\n",
              "      background-color: #E2EBFA;\n",
              "      box-shadow: 0px 1px 2px rgba(60, 64, 67, 0.3), 0px 1px 3px 1px rgba(60, 64, 67, 0.15);\n",
              "      fill: #174EA6;\n",
              "    }\n",
              "\n",
              "    [theme=dark] .colab-df-convert {\n",
              "      background-color: #3B4455;\n",
              "      fill: #D2E3FC;\n",
              "    }\n",
              "\n",
              "    [theme=dark] .colab-df-convert:hover {\n",
              "      background-color: #434B5C;\n",
              "      box-shadow: 0px 1px 3px 1px rgba(0, 0, 0, 0.15);\n",
              "      filter: drop-shadow(0px 1px 2px rgba(0, 0, 0, 0.3));\n",
              "      fill: #FFFFFF;\n",
              "    }\n",
              "  </style>\n",
              "\n",
              "      <script>\n",
              "        const buttonEl =\n",
              "          document.querySelector('#df-895feced-5d6e-49a9-8093-820f57eec65f button.colab-df-convert');\n",
              "        buttonEl.style.display =\n",
              "          google.colab.kernel.accessAllowed ? 'block' : 'none';\n",
              "\n",
              "        async function convertToInteractive(key) {\n",
              "          const element = document.querySelector('#df-895feced-5d6e-49a9-8093-820f57eec65f');\n",
              "          const dataTable =\n",
              "            await google.colab.kernel.invokeFunction('convertToInteractive',\n",
              "                                                     [key], {});\n",
              "          if (!dataTable) return;\n",
              "\n",
              "          const docLinkHtml = 'Like what you see? Visit the ' +\n",
              "            '<a target=\"_blank\" href=https://colab.research.google.com/notebooks/data_table.ipynb>data table notebook</a>'\n",
              "            + ' to learn more about interactive tables.';\n",
              "          element.innerHTML = '';\n",
              "          dataTable['output_type'] = 'display_data';\n",
              "          await google.colab.output.renderOutput(dataTable, element);\n",
              "          const docLink = document.createElement('div');\n",
              "          docLink.innerHTML = docLinkHtml;\n",
              "          element.appendChild(docLink);\n",
              "        }\n",
              "      </script>\n",
              "    </div>\n",
              "  </div>\n",
              "  "
            ]
          },
          "metadata": {},
          "execution_count": 4
        }
      ]
    },
    {
      "cell_type": "code",
      "source": [
        "# convert categorical variable into dummy/indicator variables. This will be the labels.\n",
        "y = pd.get_dummies(df)\n",
        "y = np.array(y)\n",
        "y[:]"
      ],
      "metadata": {
        "colab": {
          "base_uri": "https://localhost:8080/"
        },
        "id": "WARA9jWVO68h",
        "outputId": "ce7e89dd-6095-45da-ff1d-c1b41b78a29f"
      },
      "execution_count": 5,
      "outputs": [
        {
          "output_type": "execute_result",
          "data": {
            "text/plain": [
              "array([[1, 0, 0, 0, 0],\n",
              "       [1, 0, 0, 0, 0],\n",
              "       [1, 0, 0, 0, 0],\n",
              "       [1, 0, 0, 0, 0],\n",
              "       [1, 0, 0, 0, 0],\n",
              "       [1, 0, 0, 0, 0],\n",
              "       [1, 0, 0, 0, 0],\n",
              "       [1, 0, 0, 0, 0],\n",
              "       [1, 0, 0, 0, 0],\n",
              "       [1, 0, 0, 0, 0],\n",
              "       [1, 0, 0, 0, 0],\n",
              "       [1, 0, 0, 0, 0],\n",
              "       [1, 0, 0, 0, 0],\n",
              "       [1, 0, 0, 0, 0],\n",
              "       [1, 0, 0, 0, 0],\n",
              "       [1, 0, 0, 0, 0],\n",
              "       [1, 0, 0, 0, 0],\n",
              "       [1, 0, 0, 0, 0],\n",
              "       [1, 0, 0, 0, 0],\n",
              "       [1, 0, 0, 0, 0],\n",
              "       [0, 1, 0, 0, 0],\n",
              "       [0, 1, 0, 0, 0],\n",
              "       [0, 1, 0, 0, 0],\n",
              "       [0, 1, 0, 0, 0],\n",
              "       [0, 1, 0, 0, 0],\n",
              "       [0, 1, 0, 0, 0],\n",
              "       [0, 1, 0, 0, 0],\n",
              "       [0, 1, 0, 0, 0],\n",
              "       [0, 1, 0, 0, 0],\n",
              "       [0, 1, 0, 0, 0],\n",
              "       [0, 1, 0, 0, 0],\n",
              "       [0, 1, 0, 0, 0],\n",
              "       [0, 1, 0, 0, 0],\n",
              "       [0, 1, 0, 0, 0],\n",
              "       [0, 1, 0, 0, 0],\n",
              "       [0, 1, 0, 0, 0],\n",
              "       [0, 1, 0, 0, 0],\n",
              "       [0, 1, 0, 0, 0],\n",
              "       [0, 1, 0, 0, 0],\n",
              "       [0, 1, 0, 0, 0],\n",
              "       [0, 0, 1, 0, 0],\n",
              "       [0, 0, 1, 0, 0],\n",
              "       [0, 0, 1, 0, 0],\n",
              "       [0, 0, 1, 0, 0],\n",
              "       [0, 0, 1, 0, 0],\n",
              "       [0, 0, 1, 0, 0],\n",
              "       [0, 0, 1, 0, 0],\n",
              "       [0, 0, 1, 0, 0],\n",
              "       [0, 0, 1, 0, 0],\n",
              "       [0, 0, 1, 0, 0],\n",
              "       [0, 0, 1, 0, 0],\n",
              "       [0, 0, 1, 0, 0],\n",
              "       [0, 0, 1, 0, 0],\n",
              "       [0, 0, 1, 0, 0],\n",
              "       [0, 0, 1, 0, 0],\n",
              "       [0, 0, 1, 0, 0],\n",
              "       [0, 0, 1, 0, 0],\n",
              "       [0, 0, 1, 0, 0],\n",
              "       [0, 0, 1, 0, 0],\n",
              "       [0, 0, 1, 0, 0],\n",
              "       [0, 0, 0, 1, 0],\n",
              "       [0, 0, 0, 1, 0],\n",
              "       [0, 0, 0, 1, 0],\n",
              "       [0, 0, 0, 1, 0],\n",
              "       [0, 0, 0, 1, 0],\n",
              "       [0, 0, 0, 1, 0],\n",
              "       [0, 0, 0, 1, 0],\n",
              "       [0, 0, 0, 1, 0],\n",
              "       [0, 0, 0, 1, 0],\n",
              "       [0, 0, 0, 1, 0],\n",
              "       [0, 0, 0, 1, 0],\n",
              "       [0, 0, 0, 1, 0],\n",
              "       [0, 0, 0, 1, 0],\n",
              "       [0, 0, 0, 1, 0],\n",
              "       [0, 0, 0, 1, 0],\n",
              "       [0, 0, 0, 1, 0],\n",
              "       [0, 0, 0, 1, 0],\n",
              "       [0, 0, 0, 1, 0],\n",
              "       [0, 0, 0, 1, 0],\n",
              "       [0, 0, 0, 1, 0],\n",
              "       [0, 0, 0, 0, 1],\n",
              "       [0, 0, 0, 0, 1],\n",
              "       [0, 0, 0, 0, 1],\n",
              "       [0, 0, 0, 0, 1],\n",
              "       [0, 0, 0, 0, 1],\n",
              "       [0, 0, 0, 0, 1],\n",
              "       [0, 0, 0, 0, 1],\n",
              "       [0, 0, 0, 0, 1],\n",
              "       [0, 0, 0, 0, 1],\n",
              "       [0, 0, 0, 0, 1],\n",
              "       [0, 0, 0, 0, 1],\n",
              "       [0, 0, 0, 0, 1],\n",
              "       [0, 0, 0, 0, 1],\n",
              "       [0, 0, 0, 0, 1],\n",
              "       [0, 0, 0, 0, 1],\n",
              "       [0, 0, 0, 0, 1],\n",
              "       [0, 0, 0, 0, 1],\n",
              "       [0, 0, 0, 0, 1],\n",
              "       [0, 0, 0, 0, 1],\n",
              "       [0, 0, 0, 0, 1]], dtype=uint8)"
            ]
          },
          "metadata": {},
          "execution_count": 5
        }
      ]
    },
    {
      "cell_type": "code",
      "source": [
        "X = []\n",
        "\n",
        "# columns for collected data\n",
        "columns = [\"Time\", \"a_X\", \"a_Y\", \"a_Z\", \"g_X\", \"g_Y\", \"g_Z\"]\n",
        "\n",
        "# extract data from dataset \n",
        "for file_name in file_names:\n",
        "  data = pd.read_csv(f\"{file_dir}{file_name}\")\n",
        "  data.columns = columns\n",
        "  data.drop(\"Time\", axis=1, inplace=True)\n",
        "  X.append(data)\n",
        "  \n",
        "X = np.array(X)\n",
        "X"
      ],
      "metadata": {
        "colab": {
          "base_uri": "https://localhost:8080/"
        },
        "id": "M3JmF8GdPBWt",
        "outputId": "10cbaf34-ae43-47c8-9a68-18fe42a8d4a3"
      },
      "execution_count": 6,
      "outputs": [
        {
          "output_type": "execute_result",
          "data": {
            "text/plain": [
              "array([[[-9.0021986e-01, -1.6759412e-02,  9.7611600e+00, -7.8190750e-02,\n",
              "          6.2308256e-02,  4.5204030e-02],\n",
              "        [-8.3318220e-01,  3.0885202e-01,  9.6294790e+00,  3.6651916e-03,\n",
              "         -4.8869220e-03,  4.8869220e-02],\n",
              "        [-8.5951840e-01,  7.9008654e-02,  9.7491890e+00,  2.4434610e-03,\n",
              "          9.1629790e-02,  3.5430185e-02],\n",
              "        ...,\n",
              "        [ 1.0869676e+00, -1.8962077e+00,  9.2009170e+00,  6.4751714e-02,\n",
              "         -2.8099802e-01, -3.0176744e-01],\n",
              "        [ 2.3319526e+00, -1.5251064e+00,  9.6079310e+00,  2.3701571e-01,\n",
              "         -5.3389620e-01, -3.5918877e-01],\n",
              "        [ 2.9424740e+00, -1.5634137e+00,  8.8154510e+00, -4.6425760e-02,\n",
              "         -4.7403142e-01, -3.7507126e-01]],\n",
              "\n",
              "       [[-9.6965170e-01,  7.3741410e-01,  9.4331550e+00,  3.0543262e-02,\n",
              "         -6.1086524e-02,  6.2308256e-02],\n",
              "        [-9.0500826e-01,  1.0175357e+00,  9.1219080e+00, -1.7837265e-01,\n",
              "         -9.2851520e-02,  8.1855945e-02],\n",
              "        [-8.1642276e-01,  5.6024320e-01,  9.3278100e+00, -3.6163223e-01,\n",
              "          2.0769420e-02,  4.7647487e-02],\n",
              "        ...,\n",
              "        [ 2.5498247e+00, -1.9895816e+00,  9.7539780e+00, -5.6199603e-02,\n",
              "         -4.0194935e-01, -2.0769419e-01],\n",
              "        [ 2.6431987e+00, -1.4077905e+00,  9.0117750e+00, -4.2760566e-02,\n",
              "         -4.3493605e-01, -2.3579398e-01],\n",
              "        [ 3.7924154e+00, -1.7142484e+00,  9.4355490e+00, -1.9425514e-01,\n",
              "         -4.8747048e-01, -3.8484510e-01]],\n",
              "\n",
              "       [[-8.0684596e-01,  1.1971009e+00,  9.6606040e+00,  9.2851520e-02,\n",
              "          0.0000000e+00, -1.3439035e-02],\n",
              "        [-8.3557640e-01,  1.0965444e+00,  9.3493580e+00, -4.0317107e-02,\n",
              "          4.5204030e-02,  5.8643065e-02],\n",
              "        [-8.4036480e-01,  1.4006080e+00,  8.9902280e+00, -1.7592919e-01,\n",
              "          2.9321533e-02,  5.6199603e-02],\n",
              "        ...,\n",
              "        [ 1.6807296e+00, -2.8467060e+00,  8.8010850e+00,  3.0543262e-02,\n",
              "         -1.9547688e-02, -4.3371433e-01],\n",
              "        [ 2.6958710e+00, -2.5139117e+00,  8.9567090e+00,  4.1294490e-01,\n",
              "         -5.1557030e-01, -4.6425760e-01],\n",
              "        [ 3.4955344e+00, -1.8219875e+00,  9.2033110e+00,  1.5515977e-01,\n",
              "         -4.4837508e-01, -5.5344390e-01]],\n",
              "\n",
              "       ...,\n",
              "\n",
              "       [[ 1.4676456e+00, -1.0247183e+00,  9.3996360e+00, -6.2308256e-02,\n",
              "         -3.2986723e-02,  5.3756140e-02],\n",
              "        [ 1.4173675e+00, -1.0127473e+00,  9.5935660e+00, -2.5167647e-01,\n",
              "         -8.1855945e-02,  5.1312680e-02],\n",
              "        [ 1.6615760e+00, -1.5370775e+00,  9.8784760e+00, -5.1312680e-02,\n",
              "          7.0860370e-02,  2.6755900e-01],\n",
              "        ...,\n",
              "        [-2.0829555e-01,  9.9119950e-01,  9.5049810e+00,  1.7592919e-01,\n",
              "          9.6516706e-02, -1.7959438e-01],\n",
              "        [-3.9504328e-01,  1.2258313e+00,  9.3637230e+00,  2.8099802e-01,\n",
              "          9.6516706e-02, -1.9058995e-01],\n",
              "        [-6.8474170e-01,  1.3958195e+00,  9.5313170e+00,  1.6982053e-01,\n",
              "          1.7959438e-01, -2.3090707e-01]],\n",
              "\n",
              "       [[ 1.0199299e+00, -1.3072342e+00,  9.5624420e+00, -2.9321533e-02,\n",
              "         -2.5656340e-02, -5.1312680e-02],\n",
              "        [ 1.2138603e+00, -1.0726024e+00,  1.0024523e+01,  2.5656340e-02,\n",
              "         -5.1312680e-02,  1.2339478e-01],\n",
              "        [ 1.3072342e+00, -2.1787235e-01,  1.0706870e+01,  1.6004670e-01,\n",
              "          4.7647487e-02,  2.7488935e-01],\n",
              "        ...,\n",
              "        [-1.4748282e+00,  8.7388360e-01,  9.4834330e+00, -9.0408060e-02,\n",
              "          4.0317107e-02, -2.5900686e-01],\n",
              "        [-1.3431472e+00,  1.7621324e+00,  9.3278100e+00,  3.2986724e-01,\n",
              "          6.5973446e-02, -1.3683382e-01],\n",
              "        [-1.3192052e+00,  1.8770541e+00,  9.2607720e+00,  1.1606440e-01,\n",
              "          1.6371189e-01, -1.0262536e-01]],\n",
              "\n",
              "       [[ 1.3838485e+00, -1.0295067e+00,  9.7036990e+00, -1.2339478e-01,\n",
              "         -7.3303830e-03,  9.7738440e-03],\n",
              "        [ 1.4508862e+00, -8.5233580e-01,  9.9143900e+00, -1.0262536e-01,\n",
              "          4.6425760e-02,  2.0769420e-02],\n",
              "        [ 1.4389153e+00, -1.0654198e+00,  9.7827080e+00,  1.3439035e-02,\n",
              "          5.0090950e-02,  1.3439035e-02],\n",
              "        ...,\n",
              "        [-1.4820108e+00,  8.4515320e-01,  8.8777000e+00,  3.5674530e-01,\n",
              "          6.3529980e-02, -2.5045475e-01],\n",
              "        [-1.6735470e+00,  1.4915876e+00,  9.5983540e+00,  2.4068090e-01,\n",
              "         -3.1764990e-02, -2.4556783e-01],\n",
              "        [-1.3958195e+00,  1.5131354e+00,  9.3804830e+00,  2.9565877e-01,\n",
              "          9.7738440e-02, -1.4660765e-01]]])"
            ]
          },
          "metadata": {},
          "execution_count": 6
        }
      ]
    },
    {
      "cell_type": "code",
      "source": [
        "# checks if every gesture data contains same no. of data points \n",
        "values = dict()\n",
        "for x_s in X:\n",
        "  leng = len(x_s)\n",
        "  if leng in values:\n",
        "     values[leng] += 1\n",
        "  else:\n",
        "     values[leng] = 1\n",
        "values"
      ],
      "metadata": {
        "colab": {
          "base_uri": "https://localhost:8080/"
        },
        "id": "LFriT1GqPGyN",
        "outputId": "2b11c695-e9c8-42ea-d169-d5ec9f7338cb"
      },
      "execution_count": 7,
      "outputs": [
        {
          "output_type": "execute_result",
          "data": {
            "text/plain": [
              "{15: 100}"
            ]
          },
          "metadata": {},
          "execution_count": 7
        }
      ]
    },
    {
      "cell_type": "code",
      "source": [
        "# split dataset into training and 'remaining data'\n",
        "X_train, X_rem, y_train, y_rem = train_test_split(X, y, test_size=0.3, random_state=42)\n",
        "\n",
        "# split remaining data into test and valid sets\n",
        "X_valid, X_test, y_valid, y_test = train_test_split(X_rem, y_rem, test_size=0.5, random_state=42)\n",
        "\n",
        "print(X_train.shape)\n",
        "print(y_train.shape)\n",
        "print(\"\\n\")\n",
        "\n",
        "print(X_valid.shape)\n",
        "print(y_valid.shape)\n",
        "print(\"\\n\")\n",
        "\n",
        "print(X_test.shape)\n",
        "print(y_test.shape)"
      ],
      "metadata": {
        "colab": {
          "base_uri": "https://localhost:8080/"
        },
        "id": "h8MLWSRxPJ-o",
        "outputId": "093981ac-865a-490d-9247-e9196f8ec229"
      },
      "execution_count": 8,
      "outputs": [
        {
          "output_type": "stream",
          "name": "stdout",
          "text": [
            "(70, 15, 6)\n",
            "(70, 5)\n",
            "\n",
            "\n",
            "(15, 15, 6)\n",
            "(15, 5)\n",
            "\n",
            "\n",
            "(15, 15, 6)\n",
            "(15, 5)\n"
          ]
        }
      ]
    },
    {
      "cell_type": "markdown",
      "metadata": {
        "id": "DsBwWiEZOiz1"
      },
      "source": [
        "## Build Model"
      ]
    },
    {
      "cell_type": "code",
      "source": [
        "def create_conv_model():\n",
        "  model = tf.keras.Sequential()\n",
        "  \n",
        "  model.add(Conv1D(64, 3, input_shape=X.shape[1:]))\n",
        "  model.add(Activation(\"relu\"))\n",
        "  model.add(MaxPool1D(pool_size=3))\n",
        "\n",
        "  model.add(Conv1D(64, 2))\n",
        "  model.add(Activation(\"relu\"))\n",
        "  model.add(MaxPool1D(pool_size=2))\n",
        "\n",
        "  model.add(Flatten())\n",
        "  model.add(Dense(64))\n",
        "\n",
        "  model.add(Dense(5))\n",
        "  model.add(Activation(\"softmax\"))\n",
        "\n",
        "  model.compile(optimizer='adam',\n",
        "              loss = \"categorical_crossentropy\",\n",
        "              metrics=['accuracy'])\n",
        "  \n",
        "  return model"
      ],
      "metadata": {
        "id": "PBAPxaSlPZEX"
      },
      "execution_count": 9,
      "outputs": []
    },
    {
      "cell_type": "code",
      "source": [
        "def create_recurr_model():\n",
        "  model = tf.keras.Sequential()\n",
        "\n",
        "  model.add(LSTM(6, input_shape=X.shape[1:], return_sequences=True))\n",
        "  model.add(Dropout(0.2))\n",
        "\n",
        "  model.add(LSTM(6, input_shape=X.shape[1:], return_sequences=True))\n",
        "  model.add(Dropout(0.2))\n",
        "\n",
        "  model.add(LSTM(6, input_shape=X.shape[1:]))\n",
        "  model.add(Dropout(0.2))\n",
        "\n",
        "  model.add(Dense(32, activation=\"tanh\"))\n",
        "  model.add(Dropout(0.2))\n",
        "\n",
        "  model.add(Dense(5, activation=\"softmax\"))\n",
        "\n",
        "  opt = tf.keras.optimizers.Adam(learning_rate=0.001, decay=1e-6)\n",
        "\n",
        "  model.compile(optimizer=opt,\n",
        "                loss = \"categorical_crossentropy\",\n",
        "                metrics=['accuracy'])\n",
        "  \n",
        "  return model"
      ],
      "metadata": {
        "id": "rMp8TnFuPazf"
      },
      "execution_count": 10,
      "outputs": []
    },
    {
      "cell_type": "code",
      "source": [
        "# create convolution model\n",
        "conv_model = create_conv_model()\n",
        "conv_model.summary()"
      ],
      "metadata": {
        "colab": {
          "base_uri": "https://localhost:8080/"
        },
        "id": "cG78IFZaPc5B",
        "outputId": "7787845c-0861-44ff-fcad-0829692e09d2"
      },
      "execution_count": 11,
      "outputs": [
        {
          "output_type": "stream",
          "name": "stdout",
          "text": [
            "Model: \"sequential\"\n",
            "_________________________________________________________________\n",
            " Layer (type)                Output Shape              Param #   \n",
            "=================================================================\n",
            " conv1d (Conv1D)             (None, 13, 64)            1216      \n",
            "                                                                 \n",
            " activation (Activation)     (None, 13, 64)            0         \n",
            "                                                                 \n",
            " max_pooling1d (MaxPooling1D  (None, 4, 64)            0         \n",
            " )                                                               \n",
            "                                                                 \n",
            " conv1d_1 (Conv1D)           (None, 3, 64)             8256      \n",
            "                                                                 \n",
            " activation_1 (Activation)   (None, 3, 64)             0         \n",
            "                                                                 \n",
            " max_pooling1d_1 (MaxPooling  (None, 1, 64)            0         \n",
            " 1D)                                                             \n",
            "                                                                 \n",
            " flatten (Flatten)           (None, 64)                0         \n",
            "                                                                 \n",
            " dense (Dense)               (None, 64)                4160      \n",
            "                                                                 \n",
            " dense_1 (Dense)             (None, 5)                 325       \n",
            "                                                                 \n",
            " activation_2 (Activation)   (None, 5)                 0         \n",
            "                                                                 \n",
            "=================================================================\n",
            "Total params: 13,957\n",
            "Trainable params: 13,957\n",
            "Non-trainable params: 0\n",
            "_________________________________________________________________\n"
          ]
        }
      ]
    },
    {
      "cell_type": "code",
      "source": [
        "# create recurrent model\n",
        "recurr_model = create_recurr_model()\n",
        "recurr_model.summary()"
      ],
      "metadata": {
        "colab": {
          "base_uri": "https://localhost:8080/"
        },
        "id": "a---lJFMPeLx",
        "outputId": "03651f07-075d-400e-dd9f-8bf3395f96e6"
      },
      "execution_count": 12,
      "outputs": [
        {
          "output_type": "stream",
          "name": "stdout",
          "text": [
            "Model: \"sequential_1\"\n",
            "_________________________________________________________________\n",
            " Layer (type)                Output Shape              Param #   \n",
            "=================================================================\n",
            " lstm (LSTM)                 (None, 15, 6)             312       \n",
            "                                                                 \n",
            " dropout (Dropout)           (None, 15, 6)             0         \n",
            "                                                                 \n",
            " lstm_1 (LSTM)               (None, 15, 6)             312       \n",
            "                                                                 \n",
            " dropout_1 (Dropout)         (None, 15, 6)             0         \n",
            "                                                                 \n",
            " lstm_2 (LSTM)               (None, 6)                 312       \n",
            "                                                                 \n",
            " dropout_2 (Dropout)         (None, 6)                 0         \n",
            "                                                                 \n",
            " dense_2 (Dense)             (None, 32)                224       \n",
            "                                                                 \n",
            " dropout_3 (Dropout)         (None, 32)                0         \n",
            "                                                                 \n",
            " dense_3 (Dense)             (None, 5)                 165       \n",
            "                                                                 \n",
            "=================================================================\n",
            "Total params: 1,325\n",
            "Trainable params: 1,325\n",
            "Non-trainable params: 0\n",
            "_________________________________________________________________\n"
          ]
        }
      ]
    },
    {
      "cell_type": "markdown",
      "metadata": {
        "id": "LJ1xoIabOiz2"
      },
      "source": [
        "## Train Model"
      ]
    },
    {
      "cell_type": "code",
      "source": [
        "early_stopping = tf.keras.callbacks.EarlyStopping(monitor='val_loss', patience=4)"
      ],
      "metadata": {
        "id": "Yt0DazgpPoJW"
      },
      "execution_count": 13,
      "outputs": []
    },
    {
      "cell_type": "code",
      "source": [
        "# train convolution model\n",
        "conv_model.fit(X_train, \n",
        "          y_train,\n",
        "          epochs = 20, \n",
        "          validation_data = (X_valid, y_valid),\n",
        "          callbacks=[early_stopping])"
      ],
      "metadata": {
        "colab": {
          "base_uri": "https://localhost:8080/"
        },
        "id": "2KnJOETjPl0N",
        "outputId": "7cc10cc3-f89a-44d8-e937-933654ea7f49"
      },
      "execution_count": 14,
      "outputs": [
        {
          "output_type": "stream",
          "name": "stdout",
          "text": [
            "Epoch 1/20\n",
            "3/3 [==============================] - 2s 212ms/step - loss: 1.7166 - accuracy: 0.2286 - val_loss: 1.2363 - val_accuracy: 0.4000\n",
            "Epoch 2/20\n",
            "3/3 [==============================] - 0s 22ms/step - loss: 1.2347 - accuracy: 0.5000 - val_loss: 1.0254 - val_accuracy: 0.5333\n",
            "Epoch 3/20\n",
            "3/3 [==============================] - 0s 36ms/step - loss: 1.1205 - accuracy: 0.4571 - val_loss: 0.9072 - val_accuracy: 0.7333\n",
            "Epoch 4/20\n",
            "3/3 [==============================] - 0s 21ms/step - loss: 0.9724 - accuracy: 0.6857 - val_loss: 0.8725 - val_accuracy: 0.8000\n",
            "Epoch 5/20\n",
            "3/3 [==============================] - 0s 44ms/step - loss: 0.9208 - accuracy: 0.6857 - val_loss: 0.8647 - val_accuracy: 0.6000\n",
            "Epoch 6/20\n",
            "3/3 [==============================] - 0s 33ms/step - loss: 0.8591 - accuracy: 0.7429 - val_loss: 0.7282 - val_accuracy: 1.0000\n",
            "Epoch 7/20\n",
            "3/3 [==============================] - 0s 26ms/step - loss: 0.7717 - accuracy: 0.9571 - val_loss: 0.6562 - val_accuracy: 0.9333\n",
            "Epoch 8/20\n",
            "3/3 [==============================] - 0s 26ms/step - loss: 0.7146 - accuracy: 0.8714 - val_loss: 0.6095 - val_accuracy: 0.9333\n",
            "Epoch 9/20\n",
            "3/3 [==============================] - 0s 21ms/step - loss: 0.6652 - accuracy: 0.8286 - val_loss: 0.5985 - val_accuracy: 0.8000\n",
            "Epoch 10/20\n",
            "3/3 [==============================] - 0s 20ms/step - loss: 0.6153 - accuracy: 0.8143 - val_loss: 0.5513 - val_accuracy: 0.8667\n",
            "Epoch 11/20\n",
            "3/3 [==============================] - 0s 33ms/step - loss: 0.5473 - accuracy: 0.9429 - val_loss: 0.4547 - val_accuracy: 1.0000\n",
            "Epoch 12/20\n",
            "3/3 [==============================] - 0s 40ms/step - loss: 0.4812 - accuracy: 0.9714 - val_loss: 0.3948 - val_accuracy: 1.0000\n",
            "Epoch 13/20\n",
            "3/3 [==============================] - 0s 35ms/step - loss: 0.4288 - accuracy: 0.9571 - val_loss: 0.3679 - val_accuracy: 1.0000\n",
            "Epoch 14/20\n",
            "3/3 [==============================] - 0s 22ms/step - loss: 0.3740 - accuracy: 0.9714 - val_loss: 0.3896 - val_accuracy: 0.9333\n",
            "Epoch 15/20\n",
            "3/3 [==============================] - 0s 30ms/step - loss: 0.3696 - accuracy: 0.9571 - val_loss: 0.3254 - val_accuracy: 1.0000\n",
            "Epoch 16/20\n",
            "3/3 [==============================] - 0s 20ms/step - loss: 0.2999 - accuracy: 0.9714 - val_loss: 0.2445 - val_accuracy: 1.0000\n",
            "Epoch 17/20\n",
            "3/3 [==============================] - 0s 19ms/step - loss: 0.2844 - accuracy: 0.9714 - val_loss: 0.2167 - val_accuracy: 1.0000\n",
            "Epoch 18/20\n",
            "3/3 [==============================] - 0s 33ms/step - loss: 0.2856 - accuracy: 0.9571 - val_loss: 0.1884 - val_accuracy: 1.0000\n",
            "Epoch 19/20\n",
            "3/3 [==============================] - 0s 49ms/step - loss: 0.2413 - accuracy: 0.9571 - val_loss: 0.2152 - val_accuracy: 1.0000\n",
            "Epoch 20/20\n",
            "3/3 [==============================] - 0s 41ms/step - loss: 0.2222 - accuracy: 0.9571 - val_loss: 0.1777 - val_accuracy: 1.0000\n"
          ]
        },
        {
          "output_type": "execute_result",
          "data": {
            "text/plain": [
              "<keras.callbacks.History at 0x7f4515513a60>"
            ]
          },
          "metadata": {},
          "execution_count": 14
        }
      ]
    },
    {
      "cell_type": "code",
      "source": [
        "# train recurrent model\n",
        "recurr_model.fit(X_train, \n",
        "          y_train,\n",
        "          epochs = 100,\n",
        "          validation_data = (X_valid, y_valid),\n",
        "          callbacks=[early_stopping])"
      ],
      "metadata": {
        "colab": {
          "base_uri": "https://localhost:8080/"
        },
        "id": "TRmcToH-PswI",
        "outputId": "1299a03f-2532-4766-99dd-6d87dedb67ce"
      },
      "execution_count": 15,
      "outputs": [
        {
          "output_type": "stream",
          "name": "stdout",
          "text": [
            "Epoch 1/100\n",
            "3/3 [==============================] - 15s 685ms/step - loss: 1.6132 - accuracy: 0.2286 - val_loss: 1.6300 - val_accuracy: 0.1333\n",
            "Epoch 2/100\n",
            "3/3 [==============================] - 0s 29ms/step - loss: 1.6143 - accuracy: 0.2429 - val_loss: 1.6228 - val_accuracy: 0.1333\n",
            "Epoch 3/100\n",
            "3/3 [==============================] - 0s 30ms/step - loss: 1.5940 - accuracy: 0.2571 - val_loss: 1.6151 - val_accuracy: 0.1333\n",
            "Epoch 4/100\n",
            "3/3 [==============================] - 0s 38ms/step - loss: 1.6018 - accuracy: 0.2857 - val_loss: 1.6077 - val_accuracy: 0.1333\n",
            "Epoch 5/100\n",
            "3/3 [==============================] - 0s 41ms/step - loss: 1.6134 - accuracy: 0.2143 - val_loss: 1.6003 - val_accuracy: 0.1333\n",
            "Epoch 6/100\n",
            "3/3 [==============================] - 0s 32ms/step - loss: 1.5773 - accuracy: 0.2857 - val_loss: 1.5925 - val_accuracy: 0.2000\n",
            "Epoch 7/100\n",
            "3/3 [==============================] - 0s 31ms/step - loss: 1.5803 - accuracy: 0.3000 - val_loss: 1.5844 - val_accuracy: 0.2667\n",
            "Epoch 8/100\n",
            "3/3 [==============================] - 0s 37ms/step - loss: 1.5755 - accuracy: 0.2857 - val_loss: 1.5753 - val_accuracy: 0.3333\n",
            "Epoch 9/100\n",
            "3/3 [==============================] - 0s 38ms/step - loss: 1.5572 - accuracy: 0.4286 - val_loss: 1.5654 - val_accuracy: 0.3333\n",
            "Epoch 10/100\n",
            "3/3 [==============================] - 0s 44ms/step - loss: 1.5568 - accuracy: 0.3429 - val_loss: 1.5542 - val_accuracy: 0.3333\n",
            "Epoch 11/100\n",
            "3/3 [==============================] - 0s 41ms/step - loss: 1.5339 - accuracy: 0.3571 - val_loss: 1.5416 - val_accuracy: 0.3333\n",
            "Epoch 12/100\n",
            "3/3 [==============================] - 0s 36ms/step - loss: 1.5251 - accuracy: 0.4571 - val_loss: 1.5278 - val_accuracy: 0.3333\n",
            "Epoch 13/100\n",
            "3/3 [==============================] - 0s 57ms/step - loss: 1.5153 - accuracy: 0.3429 - val_loss: 1.5112 - val_accuracy: 0.4000\n",
            "Epoch 14/100\n",
            "3/3 [==============================] - 0s 41ms/step - loss: 1.4945 - accuracy: 0.4714 - val_loss: 1.4916 - val_accuracy: 0.5333\n",
            "Epoch 15/100\n",
            "3/3 [==============================] - 0s 38ms/step - loss: 1.4537 - accuracy: 0.4857 - val_loss: 1.4702 - val_accuracy: 0.4000\n",
            "Epoch 16/100\n",
            "3/3 [==============================] - 0s 44ms/step - loss: 1.4526 - accuracy: 0.4143 - val_loss: 1.4475 - val_accuracy: 0.3333\n",
            "Epoch 17/100\n",
            "3/3 [==============================] - 0s 48ms/step - loss: 1.4378 - accuracy: 0.4714 - val_loss: 1.4244 - val_accuracy: 0.4000\n",
            "Epoch 18/100\n",
            "3/3 [==============================] - 0s 38ms/step - loss: 1.4245 - accuracy: 0.3857 - val_loss: 1.4008 - val_accuracy: 0.4000\n",
            "Epoch 19/100\n",
            "3/3 [==============================] - 0s 43ms/step - loss: 1.3778 - accuracy: 0.4429 - val_loss: 1.3768 - val_accuracy: 0.4000\n",
            "Epoch 20/100\n",
            "3/3 [==============================] - 0s 50ms/step - loss: 1.3567 - accuracy: 0.4571 - val_loss: 1.3523 - val_accuracy: 0.4000\n",
            "Epoch 21/100\n",
            "3/3 [==============================] - 0s 38ms/step - loss: 1.3500 - accuracy: 0.4286 - val_loss: 1.3281 - val_accuracy: 0.4000\n",
            "Epoch 22/100\n",
            "3/3 [==============================] - 0s 36ms/step - loss: 1.3351 - accuracy: 0.4143 - val_loss: 1.3048 - val_accuracy: 0.4000\n",
            "Epoch 23/100\n",
            "3/3 [==============================] - 0s 50ms/step - loss: 1.3191 - accuracy: 0.4714 - val_loss: 1.2815 - val_accuracy: 0.4000\n",
            "Epoch 24/100\n",
            "3/3 [==============================] - 0s 38ms/step - loss: 1.3297 - accuracy: 0.3714 - val_loss: 1.2589 - val_accuracy: 0.4000\n",
            "Epoch 25/100\n",
            "3/3 [==============================] - 0s 43ms/step - loss: 1.2780 - accuracy: 0.3857 - val_loss: 1.2374 - val_accuracy: 0.3333\n",
            "Epoch 26/100\n",
            "3/3 [==============================] - 0s 41ms/step - loss: 1.2585 - accuracy: 0.4571 - val_loss: 1.2165 - val_accuracy: 0.3333\n",
            "Epoch 27/100\n",
            "3/3 [==============================] - 0s 29ms/step - loss: 1.2492 - accuracy: 0.4571 - val_loss: 1.1965 - val_accuracy: 0.3333\n",
            "Epoch 28/100\n",
            "3/3 [==============================] - 0s 30ms/step - loss: 1.2487 - accuracy: 0.4143 - val_loss: 1.1794 - val_accuracy: 0.4000\n",
            "Epoch 29/100\n",
            "3/3 [==============================] - 0s 29ms/step - loss: 1.2075 - accuracy: 0.4000 - val_loss: 1.1605 - val_accuracy: 0.4000\n",
            "Epoch 30/100\n",
            "3/3 [==============================] - 0s 31ms/step - loss: 1.1536 - accuracy: 0.4714 - val_loss: 1.1420 - val_accuracy: 0.3333\n",
            "Epoch 31/100\n",
            "3/3 [==============================] - 0s 34ms/step - loss: 1.1626 - accuracy: 0.4571 - val_loss: 1.1310 - val_accuracy: 0.4000\n",
            "Epoch 32/100\n",
            "3/3 [==============================] - 0s 41ms/step - loss: 1.1320 - accuracy: 0.4286 - val_loss: 1.1188 - val_accuracy: 0.4667\n",
            "Epoch 33/100\n",
            "3/3 [==============================] - 0s 31ms/step - loss: 1.1561 - accuracy: 0.4429 - val_loss: 1.0960 - val_accuracy: 0.4000\n",
            "Epoch 34/100\n",
            "3/3 [==============================] - 0s 30ms/step - loss: 1.1192 - accuracy: 0.5143 - val_loss: 1.0746 - val_accuracy: 0.3333\n",
            "Epoch 35/100\n",
            "3/3 [==============================] - 0s 30ms/step - loss: 1.1373 - accuracy: 0.4000 - val_loss: 1.0588 - val_accuracy: 0.3333\n",
            "Epoch 36/100\n",
            "3/3 [==============================] - 0s 30ms/step - loss: 1.0905 - accuracy: 0.4286 - val_loss: 1.0447 - val_accuracy: 0.3333\n",
            "Epoch 37/100\n",
            "3/3 [==============================] - 0s 31ms/step - loss: 1.0803 - accuracy: 0.5000 - val_loss: 1.0280 - val_accuracy: 0.3333\n",
            "Epoch 38/100\n",
            "3/3 [==============================] - 0s 31ms/step - loss: 1.0495 - accuracy: 0.5143 - val_loss: 1.0101 - val_accuracy: 0.3333\n",
            "Epoch 39/100\n",
            "3/3 [==============================] - 0s 29ms/step - loss: 1.0303 - accuracy: 0.5571 - val_loss: 0.9954 - val_accuracy: 0.4667\n",
            "Epoch 40/100\n",
            "3/3 [==============================] - 0s 36ms/step - loss: 1.0516 - accuracy: 0.5286 - val_loss: 0.9777 - val_accuracy: 0.4000\n",
            "Epoch 41/100\n",
            "3/3 [==============================] - 0s 31ms/step - loss: 1.0060 - accuracy: 0.5143 - val_loss: 0.9615 - val_accuracy: 0.3333\n",
            "Epoch 42/100\n",
            "3/3 [==============================] - 0s 34ms/step - loss: 0.9974 - accuracy: 0.6000 - val_loss: 0.9462 - val_accuracy: 0.4000\n",
            "Epoch 43/100\n",
            "3/3 [==============================] - 0s 35ms/step - loss: 1.0315 - accuracy: 0.5857 - val_loss: 0.9269 - val_accuracy: 0.4000\n",
            "Epoch 44/100\n",
            "3/3 [==============================] - 0s 31ms/step - loss: 0.9660 - accuracy: 0.6143 - val_loss: 0.9091 - val_accuracy: 0.6000\n",
            "Epoch 45/100\n",
            "3/3 [==============================] - 0s 34ms/step - loss: 0.9883 - accuracy: 0.5714 - val_loss: 0.8895 - val_accuracy: 0.7333\n",
            "Epoch 46/100\n",
            "3/3 [==============================] - 0s 31ms/step - loss: 1.0112 - accuracy: 0.5286 - val_loss: 0.8653 - val_accuracy: 0.7333\n",
            "Epoch 47/100\n",
            "3/3 [==============================] - 0s 34ms/step - loss: 0.9138 - accuracy: 0.6571 - val_loss: 0.8595 - val_accuracy: 0.6000\n",
            "Epoch 48/100\n",
            "3/3 [==============================] - 0s 37ms/step - loss: 0.9050 - accuracy: 0.6429 - val_loss: 0.8625 - val_accuracy: 0.6000\n",
            "Epoch 49/100\n",
            "3/3 [==============================] - 0s 29ms/step - loss: 0.9627 - accuracy: 0.6000 - val_loss: 0.8419 - val_accuracy: 0.6000\n",
            "Epoch 50/100\n",
            "3/3 [==============================] - 0s 35ms/step - loss: 0.9568 - accuracy: 0.6286 - val_loss: 0.8018 - val_accuracy: 0.6000\n",
            "Epoch 51/100\n",
            "3/3 [==============================] - 0s 36ms/step - loss: 0.8501 - accuracy: 0.6714 - val_loss: 0.7789 - val_accuracy: 0.8000\n",
            "Epoch 52/100\n",
            "3/3 [==============================] - 0s 30ms/step - loss: 0.8809 - accuracy: 0.5857 - val_loss: 0.7669 - val_accuracy: 0.7333\n",
            "Epoch 53/100\n",
            "3/3 [==============================] - 0s 30ms/step - loss: 0.8461 - accuracy: 0.6429 - val_loss: 0.7366 - val_accuracy: 0.7333\n",
            "Epoch 54/100\n",
            "3/3 [==============================] - 0s 29ms/step - loss: 0.8671 - accuracy: 0.6714 - val_loss: 0.7254 - val_accuracy: 0.6000\n",
            "Epoch 55/100\n",
            "3/3 [==============================] - 0s 32ms/step - loss: 0.8491 - accuracy: 0.6000 - val_loss: 0.7118 - val_accuracy: 0.6000\n",
            "Epoch 56/100\n",
            "3/3 [==============================] - 0s 31ms/step - loss: 0.8351 - accuracy: 0.6571 - val_loss: 0.6930 - val_accuracy: 0.6667\n",
            "Epoch 57/100\n",
            "3/3 [==============================] - 0s 30ms/step - loss: 0.7694 - accuracy: 0.7143 - val_loss: 0.6719 - val_accuracy: 0.7333\n",
            "Epoch 58/100\n",
            "3/3 [==============================] - 0s 31ms/step - loss: 0.8337 - accuracy: 0.6286 - val_loss: 0.6517 - val_accuracy: 0.8000\n",
            "Epoch 59/100\n",
            "3/3 [==============================] - 0s 33ms/step - loss: 0.7634 - accuracy: 0.7143 - val_loss: 0.6503 - val_accuracy: 0.7333\n",
            "Epoch 60/100\n",
            "3/3 [==============================] - 0s 39ms/step - loss: 0.7999 - accuracy: 0.6429 - val_loss: 0.6261 - val_accuracy: 0.8000\n",
            "Epoch 61/100\n",
            "3/3 [==============================] - 0s 46ms/step - loss: 0.7493 - accuracy: 0.7571 - val_loss: 0.6214 - val_accuracy: 0.8000\n",
            "Epoch 62/100\n",
            "3/3 [==============================] - 0s 37ms/step - loss: 0.7129 - accuracy: 0.7000 - val_loss: 0.6480 - val_accuracy: 0.6000\n",
            "Epoch 63/100\n",
            "3/3 [==============================] - 0s 46ms/step - loss: 0.7706 - accuracy: 0.6571 - val_loss: 0.6436 - val_accuracy: 0.6000\n",
            "Epoch 64/100\n",
            "3/3 [==============================] - 0s 37ms/step - loss: 0.7611 - accuracy: 0.6286 - val_loss: 0.6089 - val_accuracy: 0.6667\n",
            "Epoch 65/100\n",
            "3/3 [==============================] - 0s 38ms/step - loss: 0.7424 - accuracy: 0.6714 - val_loss: 0.5733 - val_accuracy: 0.8000\n",
            "Epoch 66/100\n",
            "3/3 [==============================] - 0s 42ms/step - loss: 0.7068 - accuracy: 0.7000 - val_loss: 0.5741 - val_accuracy: 0.8000\n",
            "Epoch 67/100\n",
            "3/3 [==============================] - 0s 36ms/step - loss: 0.7140 - accuracy: 0.6571 - val_loss: 0.5541 - val_accuracy: 0.8000\n",
            "Epoch 68/100\n",
            "3/3 [==============================] - 0s 43ms/step - loss: 0.7263 - accuracy: 0.6714 - val_loss: 0.5762 - val_accuracy: 0.6667\n",
            "Epoch 69/100\n",
            "3/3 [==============================] - 0s 29ms/step - loss: 0.7203 - accuracy: 0.7000 - val_loss: 0.5807 - val_accuracy: 0.6000\n",
            "Epoch 70/100\n",
            "3/3 [==============================] - 0s 35ms/step - loss: 0.7038 - accuracy: 0.6714 - val_loss: 0.5429 - val_accuracy: 0.8000\n",
            "Epoch 71/100\n",
            "3/3 [==============================] - 0s 43ms/step - loss: 0.6878 - accuracy: 0.7143 - val_loss: 0.5291 - val_accuracy: 0.8000\n",
            "Epoch 72/100\n",
            "3/3 [==============================] - 0s 30ms/step - loss: 0.6490 - accuracy: 0.7143 - val_loss: 0.5339 - val_accuracy: 0.7333\n",
            "Epoch 73/100\n",
            "3/3 [==============================] - 0s 30ms/step - loss: 0.7028 - accuracy: 0.6857 - val_loss: 0.5099 - val_accuracy: 0.8000\n",
            "Epoch 74/100\n",
            "3/3 [==============================] - 0s 34ms/step - loss: 0.6275 - accuracy: 0.7429 - val_loss: 0.5044 - val_accuracy: 0.8000\n",
            "Epoch 75/100\n",
            "3/3 [==============================] - 0s 30ms/step - loss: 0.6244 - accuracy: 0.7143 - val_loss: 0.5058 - val_accuracy: 0.8000\n",
            "Epoch 76/100\n",
            "3/3 [==============================] - 0s 30ms/step - loss: 0.6513 - accuracy: 0.7429 - val_loss: 0.4925 - val_accuracy: 0.8000\n",
            "Epoch 77/100\n",
            "3/3 [==============================] - 0s 31ms/step - loss: 0.6019 - accuracy: 0.7429 - val_loss: 0.4732 - val_accuracy: 0.8000\n",
            "Epoch 78/100\n",
            "3/3 [==============================] - 0s 30ms/step - loss: 0.6020 - accuracy: 0.8000 - val_loss: 0.4798 - val_accuracy: 0.7333\n",
            "Epoch 79/100\n",
            "3/3 [==============================] - 0s 32ms/step - loss: 0.6250 - accuracy: 0.7286 - val_loss: 0.4806 - val_accuracy: 0.8000\n",
            "Epoch 80/100\n",
            "3/3 [==============================] - 0s 30ms/step - loss: 0.6338 - accuracy: 0.7429 - val_loss: 0.4565 - val_accuracy: 0.8000\n",
            "Epoch 81/100\n",
            "3/3 [==============================] - 0s 31ms/step - loss: 0.6005 - accuracy: 0.7714 - val_loss: 0.4406 - val_accuracy: 0.8000\n",
            "Epoch 82/100\n",
            "3/3 [==============================] - 0s 31ms/step - loss: 0.5663 - accuracy: 0.7714 - val_loss: 0.4353 - val_accuracy: 0.8000\n",
            "Epoch 83/100\n",
            "3/3 [==============================] - 0s 31ms/step - loss: 0.5506 - accuracy: 0.7714 - val_loss: 0.4343 - val_accuracy: 0.8000\n",
            "Epoch 84/100\n",
            "3/3 [==============================] - 0s 36ms/step - loss: 0.6702 - accuracy: 0.7000 - val_loss: 0.4291 - val_accuracy: 0.8000\n",
            "Epoch 85/100\n",
            "3/3 [==============================] - 0s 30ms/step - loss: 0.5763 - accuracy: 0.7857 - val_loss: 0.4317 - val_accuracy: 0.8000\n",
            "Epoch 86/100\n",
            "3/3 [==============================] - 0s 30ms/step - loss: 0.5934 - accuracy: 0.6714 - val_loss: 0.4061 - val_accuracy: 0.8000\n",
            "Epoch 87/100\n",
            "3/3 [==============================] - 0s 32ms/step - loss: 0.5051 - accuracy: 0.8429 - val_loss: 0.4026 - val_accuracy: 0.9333\n",
            "Epoch 88/100\n",
            "3/3 [==============================] - 0s 29ms/step - loss: 0.5695 - accuracy: 0.7429 - val_loss: 0.4081 - val_accuracy: 0.9333\n",
            "Epoch 89/100\n",
            "3/3 [==============================] - 0s 31ms/step - loss: 0.5259 - accuracy: 0.8429 - val_loss: 0.3863 - val_accuracy: 1.0000\n",
            "Epoch 90/100\n",
            "3/3 [==============================] - 0s 35ms/step - loss: 0.5319 - accuracy: 0.8286 - val_loss: 0.3775 - val_accuracy: 0.8667\n",
            "Epoch 91/100\n",
            "3/3 [==============================] - 0s 41ms/step - loss: 0.5891 - accuracy: 0.7429 - val_loss: 0.3775 - val_accuracy: 0.8667\n",
            "Epoch 92/100\n",
            "3/3 [==============================] - 0s 44ms/step - loss: 0.4697 - accuracy: 0.8571 - val_loss: 0.3709 - val_accuracy: 1.0000\n",
            "Epoch 93/100\n",
            "3/3 [==============================] - 0s 44ms/step - loss: 0.5278 - accuracy: 0.8000 - val_loss: 0.3637 - val_accuracy: 1.0000\n",
            "Epoch 94/100\n",
            "3/3 [==============================] - 0s 38ms/step - loss: 0.5379 - accuracy: 0.7571 - val_loss: 0.3524 - val_accuracy: 1.0000\n",
            "Epoch 95/100\n",
            "3/3 [==============================] - 0s 47ms/step - loss: 0.5208 - accuracy: 0.8143 - val_loss: 0.3476 - val_accuracy: 0.8667\n",
            "Epoch 96/100\n",
            "3/3 [==============================] - 0s 41ms/step - loss: 0.4545 - accuracy: 0.8571 - val_loss: 0.3427 - val_accuracy: 0.8667\n",
            "Epoch 97/100\n",
            "3/3 [==============================] - 0s 45ms/step - loss: 0.5106 - accuracy: 0.7714 - val_loss: 0.3328 - val_accuracy: 0.8667\n",
            "Epoch 98/100\n",
            "3/3 [==============================] - 0s 40ms/step - loss: 0.4593 - accuracy: 0.7857 - val_loss: 0.3264 - val_accuracy: 1.0000\n",
            "Epoch 99/100\n",
            "3/3 [==============================] - 0s 37ms/step - loss: 0.4441 - accuracy: 0.8857 - val_loss: 0.3194 - val_accuracy: 1.0000\n",
            "Epoch 100/100\n",
            "3/3 [==============================] - 0s 39ms/step - loss: 0.5120 - accuracy: 0.8000 - val_loss: 0.3137 - val_accuracy: 1.0000\n"
          ]
        },
        {
          "output_type": "execute_result",
          "data": {
            "text/plain": [
              "<keras.callbacks.History at 0x7f4510d5f610>"
            ]
          },
          "metadata": {},
          "execution_count": 15
        }
      ]
    },
    {
      "cell_type": "markdown",
      "metadata": {
        "id": "0GKu3V8zOiz2"
      },
      "source": [
        "## Test Model"
      ]
    },
    {
      "cell_type": "code",
      "source": [
        "# ---------- test convolution model -----------\n",
        "conv_predictions = conv_model.predict(X_test)\n",
        "conv_predictions[:5]"
      ],
      "metadata": {
        "colab": {
          "base_uri": "https://localhost:8080/"
        },
        "id": "ASImHYaCPzCL",
        "outputId": "f7a9298a-4d41-4fde-9387-bcbcb4d6f25a"
      },
      "execution_count": 16,
      "outputs": [
        {
          "output_type": "stream",
          "name": "stdout",
          "text": [
            "1/1 [==============================] - 0s 149ms/step\n"
          ]
        },
        {
          "output_type": "execute_result",
          "data": {
            "text/plain": [
              "array([[2.9879328e-02, 8.3769039e-05, 1.6514826e-01, 2.7585002e-03,\n",
              "        8.0213004e-01],\n",
              "       [7.3628044e-01, 1.7721595e-03, 4.2851072e-02, 1.3209440e-01,\n",
              "        8.7001853e-02],\n",
              "       [6.9463767e-02, 2.0476559e-03, 7.2859615e-01, 2.0147981e-02,\n",
              "        1.7974448e-01],\n",
              "       [8.6289616e-03, 5.0703078e-03, 1.2885088e-04, 9.8592269e-01,\n",
              "        2.4921336e-04],\n",
              "       [7.3748493e-01, 3.4723396e-03, 1.7991148e-02, 2.1645515e-01,\n",
              "        2.4596313e-02]], dtype=float32)"
            ]
          },
          "metadata": {},
          "execution_count": 16
        }
      ]
    },
    {
      "cell_type": "code",
      "source": [
        "conv_prediction_classes = np.argmax(conv_predictions, axis=1)\n",
        "conv_prediction_classes # predicted calsses"
      ],
      "metadata": {
        "colab": {
          "base_uri": "https://localhost:8080/"
        },
        "id": "wosIeIB5P1Ac",
        "outputId": "24d86ab5-403c-45ba-a776-4a5d61fdf332"
      },
      "execution_count": 17,
      "outputs": [
        {
          "output_type": "execute_result",
          "data": {
            "text/plain": [
              "array([4, 0, 2, 3, 0, 0, 0, 3, 3, 4, 2, 3, 1, 1, 1])"
            ]
          },
          "metadata": {},
          "execution_count": 17
        }
      ]
    },
    {
      "cell_type": "code",
      "source": [
        "conv_y_test_classes = np.argmax(y_test, axis=1)\n",
        "conv_y_test_classes # actual classes"
      ],
      "metadata": {
        "colab": {
          "base_uri": "https://localhost:8080/"
        },
        "id": "rqXK9g4MP2rF",
        "outputId": "23b989dc-08be-4df0-93f0-8c287994f05c"
      },
      "execution_count": 18,
      "outputs": [
        {
          "output_type": "execute_result",
          "data": {
            "text/plain": [
              "array([4, 0, 2, 3, 0, 0, 0, 3, 3, 4, 2, 3, 1, 1, 1])"
            ]
          },
          "metadata": {},
          "execution_count": 18
        }
      ]
    },
    {
      "cell_type": "code",
      "source": [
        "print(classification_report(conv_y_test_classes, conv_prediction_classes))"
      ],
      "metadata": {
        "colab": {
          "base_uri": "https://localhost:8080/"
        },
        "id": "unVuQyFlP5nX",
        "outputId": "efd73e82-1ebc-45dc-9be0-57ab1e750c08"
      },
      "execution_count": 19,
      "outputs": [
        {
          "output_type": "stream",
          "name": "stdout",
          "text": [
            "              precision    recall  f1-score   support\n",
            "\n",
            "           0       1.00      1.00      1.00         4\n",
            "           1       1.00      1.00      1.00         3\n",
            "           2       1.00      1.00      1.00         2\n",
            "           3       1.00      1.00      1.00         4\n",
            "           4       1.00      1.00      1.00         2\n",
            "\n",
            "    accuracy                           1.00        15\n",
            "   macro avg       1.00      1.00      1.00        15\n",
            "weighted avg       1.00      1.00      1.00        15\n",
            "\n"
          ]
        }
      ]
    },
    {
      "cell_type": "code",
      "source": [
        "# ---------- test recurrent model ----------\n",
        "recurr_predictions = recurr_model.predict(X_test)\n",
        "recurr_predictions[:5]"
      ],
      "metadata": {
        "colab": {
          "base_uri": "https://localhost:8080/"
        },
        "id": "qiJJ3w_qP-q6",
        "outputId": "3551d196-c196-4233-d6fe-256ff6dd719f"
      },
      "execution_count": 20,
      "outputs": [
        {
          "output_type": "stream",
          "name": "stdout",
          "text": [
            "1/1 [==============================] - 2s 2s/step\n"
          ]
        },
        {
          "output_type": "execute_result",
          "data": {
            "text/plain": [
              "array([[2.1474935e-01, 9.7702323e-03, 4.5145009e-02, 6.4814076e-02,\n",
              "        6.6552138e-01],\n",
              "       [4.4388106e-01, 3.7037598e-03, 6.9486676e-03, 3.5441673e-01,\n",
              "        1.9104965e-01],\n",
              "       [2.3398737e-03, 1.0415616e-02, 9.2519492e-01, 5.9175404e-04,\n",
              "        6.1457902e-02],\n",
              "       [3.4484565e-01, 1.2698821e-03, 1.2341895e-03, 6.1528951e-01,\n",
              "        3.7360661e-02],\n",
              "       [4.4369510e-01, 3.7768590e-03, 6.9363401e-03, 3.5671195e-01,\n",
              "        1.8887965e-01]], dtype=float32)"
            ]
          },
          "metadata": {},
          "execution_count": 20
        }
      ]
    },
    {
      "cell_type": "code",
      "source": [
        "recurr_prediction_classes = np.argmax(recurr_predictions, axis=1)\n",
        "recurr_prediction_classes # predicted calsses"
      ],
      "metadata": {
        "colab": {
          "base_uri": "https://localhost:8080/"
        },
        "id": "bx_q6ZHfQIUW",
        "outputId": "28a031d1-2495-4d02-ef75-9c089bd54eda"
      },
      "execution_count": 21,
      "outputs": [
        {
          "output_type": "execute_result",
          "data": {
            "text/plain": [
              "array([4, 0, 2, 3, 0, 4, 3, 3, 3, 4, 2, 3, 1, 1, 1])"
            ]
          },
          "metadata": {},
          "execution_count": 21
        }
      ]
    },
    {
      "cell_type": "code",
      "source": [
        "recurr_y_test_classes = np.argmax(y_test, axis=1)\n",
        "recurr_y_test_classes # actual classes"
      ],
      "metadata": {
        "colab": {
          "base_uri": "https://localhost:8080/"
        },
        "id": "KLzCB40NQJln",
        "outputId": "593f65fe-670c-4901-f9b1-b8ebdf39df78"
      },
      "execution_count": 22,
      "outputs": [
        {
          "output_type": "execute_result",
          "data": {
            "text/plain": [
              "array([4, 0, 2, 3, 0, 0, 0, 3, 3, 4, 2, 3, 1, 1, 1])"
            ]
          },
          "metadata": {},
          "execution_count": 22
        }
      ]
    },
    {
      "cell_type": "code",
      "source": [
        "print(classification_report(recurr_y_test_classes, recurr_prediction_classes))"
      ],
      "metadata": {
        "colab": {
          "base_uri": "https://localhost:8080/"
        },
        "id": "hWd0SrJAQK9u",
        "outputId": "79794cc2-cbe7-4660-907d-040a929a3ea1"
      },
      "execution_count": 23,
      "outputs": [
        {
          "output_type": "stream",
          "name": "stdout",
          "text": [
            "              precision    recall  f1-score   support\n",
            "\n",
            "           0       1.00      0.50      0.67         4\n",
            "           1       1.00      1.00      1.00         3\n",
            "           2       1.00      1.00      1.00         2\n",
            "           3       0.80      1.00      0.89         4\n",
            "           4       0.67      1.00      0.80         2\n",
            "\n",
            "    accuracy                           0.87        15\n",
            "   macro avg       0.89      0.90      0.87        15\n",
            "weighted avg       0.90      0.87      0.85        15\n",
            "\n"
          ]
        }
      ]
    },
    {
      "cell_type": "markdown",
      "metadata": {
        "id": "vHB3FbVKOiz2"
      },
      "source": [
        "## Export Model to TFLite"
      ]
    },
    {
      "cell_type": "code",
      "source": [
        "conv_model_directory = \"./ConvGestureModel\"\n",
        "conv_model.save(conv_model_directory)"
      ],
      "metadata": {
        "colab": {
          "base_uri": "https://localhost:8080/"
        },
        "id": "S4YzHixCQNwg",
        "outputId": "92285509-8ba3-473f-fff5-d3dbbfe5d6a3"
      },
      "execution_count": 24,
      "outputs": [
        {
          "output_type": "stream",
          "name": "stderr",
          "text": [
            "WARNING:absl:Found untraced functions such as _jit_compiled_convolution_op, _jit_compiled_convolution_op while saving (showing 2 of 2). These functions will not be directly callable after loading.\n"
          ]
        }
      ]
    },
    {
      "cell_type": "code",
      "source": [
        "# Necessary for RNN models\n",
        "run_model = tf.function(lambda x: recurr_model(x))\n",
        "\n",
        "BATCH_SIZE = 1\n",
        "STEPS = 15\n",
        "INPUT_SIZE = 6\n",
        "concrete_func = run_model.get_concrete_function(tf.TensorSpec([BATCH_SIZE, STEPS, INPUT_SIZE], recurr_model.inputs[0].dtype))\n",
        "\n",
        "recurr_model_directory = \"./RecurrGestureModel\"\n",
        "recurr_model.save(recurr_model_directory, save_format=\"tf\", signatures=concrete_func)"
      ],
      "metadata": {
        "colab": {
          "base_uri": "https://localhost:8080/"
        },
        "id": "Vqvb9EcKQbU2",
        "outputId": "89eb551c-2e85-44e5-aabb-5ddcb42a6899"
      },
      "execution_count": 25,
      "outputs": [
        {
          "output_type": "stream",
          "name": "stderr",
          "text": [
            "WARNING:absl:Found untraced functions such as lstm_cell_layer_call_fn, lstm_cell_layer_call_and_return_conditional_losses, lstm_cell_1_layer_call_fn, lstm_cell_1_layer_call_and_return_conditional_losses, lstm_cell_2_layer_call_fn while saving (showing 5 of 6). These functions will not be directly callable after loading.\n"
          ]
        }
      ]
    },
    {
      "cell_type": "code",
      "source": [
        "# Convert the models\n",
        "converter = tf.lite.TFLiteConverter.from_saved_model(conv_model_directory) # path to the SavedModel directory\n",
        "conv_tflite_model = converter.convert()\n",
        "\n",
        "converter = tf.lite.TFLiteConverter.from_saved_model(recurr_model_directory) \n",
        "recurr_tflite_model = converter.convert()\n",
        "\n",
        "# Save the models\n",
        "with open('gesture_conv_model.tflite', 'wb') as f:\n",
        "  f.write(conv_tflite_model)\n",
        "\n",
        "with open('gesture_recurr_model.tflite', 'wb') as f:\n",
        "  f.write(recurr_tflite_model)"
      ],
      "metadata": {
        "id": "1mHCFN7LQeFJ"
      },
      "execution_count": 26,
      "outputs": []
    }
  ],
  "metadata": {
    "kernelspec": {
      "display_name": "Python 3",
      "language": "python",
      "name": "python3"
    },
    "language_info": {
      "name": "python",
      "version": "3.11.0 (main, Oct 24 2022, 18:26:48) [MSC v.1933 64 bit (AMD64)]"
    },
    "orig_nbformat": 4,
    "vscode": {
      "interpreter": {
        "hash": "f76646366545647f9d7317f4ab2e8df241ad704b1f20d2a46caafe798a444439"
      }
    },
    "colab": {
      "provenance": []
    }
  },
  "nbformat": 4,
  "nbformat_minor": 0
}