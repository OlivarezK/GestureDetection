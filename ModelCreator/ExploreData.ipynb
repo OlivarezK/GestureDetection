{
 "cells": [
  {
   "cell_type": "code",
   "execution_count": null,
   "metadata": {},
   "outputs": [],
   "source": []
  }
 ],
 "metadata": {
  "kernelspec": {
   "display_name": "Python 3",
   "language": "python",
   "name": "python3"
  },
  "language_info": {
   "name": "python",
   "version": "3.11.0 (main, Oct 24 2022, 18:26:48) [MSC v.1933 64 bit (AMD64)]"
  },
  "orig_nbformat": 4,
  "vscode": {
   "interpreter": {
    "hash": "f76646366545647f9d7317f4ab2e8df241ad704b1f20d2a46caafe798a444439"
   }
  }
 },
 "nbformat": 4,
 "nbformat_minor": 2
}
